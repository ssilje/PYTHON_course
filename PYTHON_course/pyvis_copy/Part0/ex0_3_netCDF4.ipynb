{
 "cells": [
  {
   "cell_type": "markdown",
   "metadata": {},
   "source": [
    "# Exercise 0.3 - NetCDF files (using `netCDF4`)\n",
    "prepared by M.Hauser"
   ]
  },
  {
   "cell_type": "markdown",
   "metadata": {},
   "source": [
    "We need to read (and write) netCDF files. There are several modules which are able to do this, one of them is the `netCDF4` library from [Unidata](http://unidata.github.io/netcdf4-python/)."
   ]
  },
  {
   "cell_type": "code",
   "execution_count": 1,
   "metadata": {},
   "outputs": [],
   "source": [
    "import netCDF4 as nc\n",
    "import numpy as np"
   ]
  },
  {
   "cell_type": "markdown",
   "metadata": {},
   "source": [
    "We will open a netCDF file with the growing season lenght (GSL) from 1956 to 2005. GSL is a climate index indicating conditions favourable for plant growth. It is defined as the number of consecutive days per year with a temperature above 5° C.\n",
    "\n",
    "The data is described in Donat et al., ([2013](http://onlinelibrary.wiley.com/doi/10.1002/jgrd.50150/abstract)), and was obtained from http://www.climdex.org/. \n",
    "We will use this dataset in a later exercise.\n",
    "\n",
    "The data has already undergone some postprocessing - see [prepare_HadEX2_GSL](./data/prepare_HadEX2_GSL.ipynb)\n",
    "\n",
    "Let's look at the structure of the file first\n",
    "\n",
    "> `ncdump` needs to be installed for this to work"
   ]
  },
  {
   "cell_type": "code",
   "execution_count": 2,
   "metadata": {},
   "outputs": [],
   "source": [
    "fN = '../data/HadEX2_GSL.nc'"
   ]
  },
  {
   "cell_type": "code",
   "execution_count": 3,
   "metadata": {},
   "outputs": [
    {
     "name": "stdout",
     "output_type": "stream",
     "text": [
      "netcdf HadEX2_GSL {\r\n",
      "dimensions:\r\n",
      "\tlon = 96 ;\r\n",
      "\tlat = 73 ;\r\n",
      "\ttime = 50 ;\r\n",
      "variables:\r\n",
      "\tdouble lon(lon) ;\r\n",
      "\t\tlon:_FillValue = NaN ;\r\n",
      "\tdouble lat(lat) ;\r\n",
      "\t\tlat:_FillValue = NaN ;\r\n",
      "\tint time(time) ;\r\n",
      "\t\ttime:units = \"days since 1956-01-01 00:00:00\" ;\r\n",
      "\t\ttime:calendar = \"proleptic_gregorian\" ;\r\n",
      "\tfloat GSL(time, lat, lon) ;\r\n",
      "\t\tGSL:_FillValue = -99.9f ;\r\n",
      "\tdouble trend(lat, lon) ;\r\n",
      "\t\ttrend:_FillValue = NaN ;\r\n",
      "\tdouble p_val(lat, lon) ;\r\n",
      "\t\tp_val:_FillValue = NaN ;\r\n",
      "\r\n",
      "// global attributes:\r\n",
      "\t\t:data = \"Growing season length\" ;\r\n",
      "\t\t:source = \"HadEX2 (http://www.climdex.org/)\" ;\r\n",
      "\t\t:reference = \"Donat et al., 2013\" ;\r\n",
      "}\r\n"
     ]
    }
   ],
   "source": [
    "# you can also use ncdump to show the structure of the file\n",
    "! ncdump -h {fN}"
   ]
  },
  {
   "cell_type": "markdown",
   "metadata": {},
   "source": [
    "## Opening the dataset"
   ]
  },
  {
   "cell_type": "code",
   "execution_count": 4,
   "metadata": {},
   "outputs": [
    {
     "name": "stdout",
     "output_type": "stream",
     "text": [
      "<class 'netCDF4._netCDF4.Dataset'>\n",
      "root group (NETCDF4_CLASSIC data model, file format HDF5):\n",
      "    data: Growing season length\n",
      "    source: HadEX2 (http://www.climdex.org/)\n",
      "    reference: Donat et al., 2013\n",
      "    dimensions(sizes): lon(96), lat(73), time(50)\n",
      "    variables(dimensions): float64 \u001b[4mlon\u001b[0m(lon), float64 \u001b[4mlat\u001b[0m(lat), int32 \u001b[4mtime\u001b[0m(time), float32 \u001b[4mGSL\u001b[0m(time,lat,lon), float64 \u001b[4mtrend\u001b[0m(lat,lon), float64 \u001b[4mp_val\u001b[0m(lat,lon)\n",
      "    groups: \n",
      "\n"
     ]
    }
   ],
   "source": [
    "ncf = nc.Dataset(fN)\n",
    "\n",
    "print(ncf)"
   ]
  },
  {
   "cell_type": "markdown",
   "metadata": {},
   "source": [
    "## Print all variables on the dataset"
   ]
  },
  {
   "cell_type": "code",
   "execution_count": 5,
   "metadata": {},
   "outputs": [
    {
     "name": "stdout",
     "output_type": "stream",
     "text": [
      "odict_keys(['lon', 'lat', 'time', 'GSL', 'trend', 'p_val'])\n"
     ]
    }
   ],
   "source": [
    "# get all variables\n",
    "print(ncf.variables.keys())"
   ]
  },
  {
   "cell_type": "markdown",
   "metadata": {},
   "source": [
    "## Get a variable\n",
    "\n",
    "You can get a variable from a netCDF file like so:"
   ]
  },
  {
   "cell_type": "code",
   "execution_count": 6,
   "metadata": {},
   "outputs": [
    {
     "data": {
      "text/plain": [
       "<class 'netCDF4._netCDF4.Variable'>\n",
       "float64 lon(lon)\n",
       "    _FillValue: nan\n",
       "unlimited dimensions: \n",
       "current shape = (96,)\n",
       "filling on"
      ]
     },
     "execution_count": 6,
     "metadata": {},
     "output_type": "execute_result"
    }
   ],
   "source": [
    "# get a variable from the file\n",
    "ncf.variables['lon']"
   ]
  },
  {
   "cell_type": "markdown",
   "metadata": {},
   "source": [
    "However, you did not load the data, yet - but a special kind of data structure called `netCDF4.variable`. It also contains some metadata, e.g. the netCDF4 variable also contains the `units` attributes:"
   ]
  },
  {
   "cell_type": "code",
   "execution_count": null,
   "metadata": {},
   "outputs": [],
   "source": [
    "ncf.variables['time'].units"
   ]
  },
  {
   "cell_type": "markdown",
   "metadata": {},
   "source": [
    "To load the actual data (as a numpy array), you have to index it:"
   ]
  },
  {
   "cell_type": "code",
   "execution_count": 7,
   "metadata": {},
   "outputs": [
    {
     "data": {
      "text/plain": [
       "array([  0.  ,   3.75,   7.5 ,  11.25,  15.  ,  18.75,  22.5 ,  26.25,\n",
       "        30.  ,  33.75,  37.5 ,  41.25,  45.  ,  48.75,  52.5 ,  56.25,\n",
       "        60.  ,  63.75,  67.5 ,  71.25,  75.  ,  78.75,  82.5 ,  86.25,\n",
       "        90.  ,  93.75,  97.5 , 101.25, 105.  , 108.75, 112.5 , 116.25,\n",
       "       120.  , 123.75, 127.5 , 131.25, 135.  , 138.75, 142.5 , 146.25,\n",
       "       150.  , 153.75, 157.5 , 161.25, 165.  , 168.75, 172.5 , 176.25,\n",
       "       180.  , 183.75, 187.5 , 191.25, 195.  , 198.75, 202.5 , 206.25,\n",
       "       210.  , 213.75, 217.5 , 221.25, 225.  , 228.75, 232.5 , 236.25,\n",
       "       240.  , 243.75, 247.5 , 251.25, 255.  , 258.75, 262.5 , 266.25,\n",
       "       270.  , 273.75, 277.5 , 281.25, 285.  , 288.75, 292.5 , 296.25,\n",
       "       300.  , 303.75, 307.5 , 311.25, 315.  , 318.75, 322.5 , 326.25,\n",
       "       330.  , 333.75, 337.5 , 341.25, 345.  , 348.75, 352.5 , 356.25])"
      ]
     },
     "execution_count": 7,
     "metadata": {},
     "output_type": "execute_result"
    }
   ],
   "source": [
    "# get data of lon from the file\n",
    "lon = ncf.variables['lon'][:]\n",
    "# this is a numpy array\n",
    "lon"
   ]
  },
  {
   "cell_type": "markdown",
   "metadata": {},
   "source": [
    "Note: if you only need a subset of the data you can index it here: `ncf.variables['lon'][:10]`. This only loads the first ten elements from the file."
   ]
  },
  {
   "cell_type": "markdown",
   "metadata": {},
   "source": [
    "### Exercise\n",
    "\n",
    "* get the values of the latitude"
   ]
  },
  {
   "cell_type": "code",
   "execution_count": 8,
   "metadata": {},
   "outputs": [],
   "source": [
    "# lat = ...\n",
    "\n",
    "# lat"
   ]
  },
  {
   "cell_type": "markdown",
   "metadata": {},
   "source": [
    "### Solution"
   ]
  },
  {
   "cell_type": "code",
   "execution_count": 9,
   "metadata": {
    "hide_input": true
   },
   "outputs": [
    {
     "data": {
      "text/plain": [
       "array([-90. , -87.5, -85. , -82.5, -80. , -77.5, -75. , -72.5, -70. ,\n",
       "       -67.5, -65. , -62.5, -60. , -57.5, -55. , -52.5, -50. , -47.5,\n",
       "       -45. , -42.5, -40. , -37.5, -35. , -32.5, -30. , -27.5, -25. ,\n",
       "       -22.5, -20. , -17.5, -15. , -12.5, -10. ,  -7.5,  -5. ,  -2.5,\n",
       "         0. ,   2.5,   5. ,   7.5,  10. ,  12.5,  15. ,  17.5,  20. ,\n",
       "        22.5,  25. ,  27.5,  30. ,  32.5,  35. ,  37.5,  40. ,  42.5,\n",
       "        45. ,  47.5,  50. ,  52.5,  55. ,  57.5,  60. ,  62.5,  65. ,\n",
       "        67.5,  70. ,  72.5,  75. ,  77.5,  80. ,  82.5,  85. ,  87.5,\n",
       "        90. ])"
      ]
     },
     "execution_count": 9,
     "metadata": {},
     "output_type": "execute_result"
    }
   ],
   "source": [
    "lat = ncf.variables['lat'][:]\n",
    "lat"
   ]
  },
  {
   "cell_type": "code",
   "execution_count": 10,
   "metadata": {},
   "outputs": [
    {
     "data": {
      "text/plain": [
       "masked_array(\n",
       "  data=[[--, --, --, ..., --, --, --],\n",
       "        [--, --, --, ..., --, --, --],\n",
       "        [--, --, --, ..., --, --, --],\n",
       "        ...,\n",
       "        [--, --, --, ..., --, --, --],\n",
       "        [--, --, --, ..., --, --, --],\n",
       "        [--, --, --, ..., --, --, --]],\n",
       "  mask=[[ True,  True,  True, ...,  True,  True,  True],\n",
       "        [ True,  True,  True, ...,  True,  True,  True],\n",
       "        [ True,  True,  True, ...,  True,  True,  True],\n",
       "        ...,\n",
       "        [ True,  True,  True, ...,  True,  True,  True],\n",
       "        [ True,  True,  True, ...,  True,  True,  True],\n",
       "        [ True,  True,  True, ...,  True,  True,  True]],\n",
       "  fill_value=nan)"
      ]
     },
     "execution_count": 10,
     "metadata": {},
     "output_type": "execute_result"
    }
   ],
   "source": [
    "# load the trend\n",
    "trend_masked = ncf.variables['trend'][:]\n",
    "\n",
    "trend_masked"
   ]
  },
  {
   "cell_type": "markdown",
   "metadata": {},
   "source": [
    "Trend_masked is also a numpy array - a masked array. Masked arrays have one array with the actual data (e.g. \\[0, 1, 2\\], and one array that indicates if this value is masked (= invalid, e.g. \\[True, False, False\\]). This would correspond to a non-masked array that looks like \\[NaN, 1, 2\\]."
   ]
  },
  {
   "cell_type": "code",
   "execution_count": 11,
   "metadata": {},
   "outputs": [
    {
     "data": {
      "text/plain": [
       "masked_array(data=[--, 1.0, 2.0],\n",
       "             mask=[ True, False, False],\n",
       "       fill_value=nan)"
      ]
     },
     "execution_count": 11,
     "metadata": {},
     "output_type": "execute_result"
    }
   ],
   "source": [
    "# example\n",
    "\n",
    "ma = np.ma.array([0., 1, 2], mask=[True, False, False], fill_value=np.NaN)\n",
    "ma"
   ]
  },
  {
   "cell_type": "code",
   "execution_count": 12,
   "metadata": {},
   "outputs": [
    {
     "data": {
      "text/plain": [
       "array([[nan, nan, nan, ..., nan, nan, nan],\n",
       "       [nan, nan, nan, ..., nan, nan, nan],\n",
       "       [nan, nan, nan, ..., nan, nan, nan],\n",
       "       ...,\n",
       "       [nan, nan, nan, ..., nan, nan, nan],\n",
       "       [nan, nan, nan, ..., nan, nan, nan],\n",
       "       [nan, nan, nan, ..., nan, nan, nan]])"
      ]
     },
     "execution_count": 12,
     "metadata": {},
     "output_type": "execute_result"
    }
   ],
   "source": [
    "# masked arrays can be converted to NaN arrays as:\n",
    "trend = np.asarray(trend_masked)\n",
    "trend"
   ]
  },
  {
   "cell_type": "code",
   "execution_count": null,
   "metadata": {},
   "outputs": [],
   "source": []
  }
 ],
 "metadata": {
  "hide_input": false,
  "kernelspec": {
   "display_name": "Python 3",
   "language": "python",
   "name": "python3"
  },
  "language_info": {
   "codemirror_mode": {
    "name": "ipython",
    "version": 3
   },
   "file_extension": ".py",
   "mimetype": "text/x-python",
   "name": "python",
   "nbconvert_exporter": "python",
   "pygments_lexer": "ipython3",
   "version": "3.6.5"
  }
 },
 "nbformat": 4,
 "nbformat_minor": 2
}
