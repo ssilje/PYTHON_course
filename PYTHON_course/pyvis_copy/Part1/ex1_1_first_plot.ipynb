{
 "cells": [
  {
   "cell_type": "markdown",
   "metadata": {},
   "source": [
    "# Exercise 1.1: First plot - lineplots\n",
    "prepared by M.Hauser\n",
    "\n",
    "This is the first exercise for you to learn the basics of matplotlib/ pyplot. We start with an artificial example to show the principle and then you repeat the same kind of plot with real-world data. \n",
    "\n",
    "In this exercise we will use measurements of the atmospheric CO2 concentration from Mauna Loa, Hawaii (Keeling & Whorf 2004). The data was [prepared and saved](./../data/prepare_CO2_mauna_loa.ipynb) as netCDF."
   ]
  },
  {
   "cell_type": "markdown",
   "metadata": {},
   "source": [
    "### Imports"
   ]
  },
  {
   "cell_type": "code",
   "execution_count": 1,
   "metadata": {},
   "outputs": [],
   "source": [
    "import matplotlib.pyplot as plt\n",
    "import netCDF4 as nc\n",
    "import numpy as np\n",
    "\n",
    "%matplotlib inline"
   ]
  },
  {
   "cell_type": "markdown",
   "metadata": {},
   "source": [
    "### Create artificial data data:"
   ]
  },
  {
   "cell_type": "code",
   "execution_count": 2,
   "metadata": {},
   "outputs": [],
   "source": [
    "x = np.arange(0, 3 * np.pi, 0.01)\n",
    "\n",
    "y = np.sin(x)"
   ]
  },
  {
   "cell_type": "markdown",
   "metadata": {},
   "source": [
    "### Load CO$_2$ data from Mauna Loa "
   ]
  },
  {
   "cell_type": "code",
   "execution_count": 8,
   "metadata": {},
   "outputs": [
    {
     "name": "stdout",
     "output_type": "stream",
     "text": [
      "[1958 1959 1960]\n",
      "[315.42       315.90625    316.86037736]\n"
     ]
    }
   ],
   "source": [
    "# name of the data file\n",
    "fN = '../data/co2.nc'\n",
    "\n",
    "ncf = nc.Dataset(fN)\n",
    "\n",
    "year = ncf.variables['year'][:]\n",
    "co2 = ncf.variables['co2_annual'][:]\n",
    "\n",
    "print(year[:3])\n",
    "print(co2[:3])"
   ]
  },
  {
   "cell_type": "markdown",
   "metadata": {},
   "source": [
    "## First plot\n",
    "\n",
    "The simplest way to create a line plot is to call `plt.plot(x, y)`:"
   ]
  },
  {
   "cell_type": "code",
   "execution_count": null,
   "metadata": {},
   "outputs": [],
   "source": [
    "plt.plot(x, y)"
   ]
  },
  {
   "cell_type": "markdown",
   "metadata": {},
   "source": [
    "### Exercise\n",
    " * plot `year` and `co2`"
   ]
  },
  {
   "cell_type": "code",
   "execution_count": 3,
   "metadata": {},
   "outputs": [],
   "source": [
    "# code here\n",
    "\n"
   ]
  },
  {
   "cell_type": "markdown",
   "metadata": {},
   "source": [
    "### Explicitely create axes and figure\n",
    "\n",
    "Using `plt.plot` automatically creates a `figure` and `axes` instance for you. However, it is usually better to explicitely create a `figure` and an `axes` instance. Often, using `plt.subplots` is the best way to do this (we will get to know other ways later).\n",
    "\n",
    "    f, ax = plt.subplots()\n",
    "    \n",
    "`f` is the figure handle, a container that has all the elements of the particular figure, including all axes. `ax` is an object of the class plt.Axes, it contains all the elements you see, the x- and y-axis, the ticks, ticklabels, etc. We can then call the plot instance of the axes themselves.\n",
    "\n",
    "    ax.plot(x, y)\n"
   ]
  },
  {
   "cell_type": "markdown",
   "metadata": {},
   "source": [
    "### Exercise\n",
    "\n",
    " * repeat the plot, creating the figure and axes instance explicitely"
   ]
  },
  {
   "cell_type": "code",
   "execution_count": 5,
   "metadata": {},
   "outputs": [],
   "source": [
    "# code here\n",
    "\n"
   ]
  },
  {
   "cell_type": "markdown",
   "metadata": {},
   "source": [
    "## MATLAB vs. object oriented interface\n",
    "\n",
    "A potentially confusing feature of pyplot is that it offers two programming interfaces in one. A MATLAB-like state-based interface and a object oriented interface. Notice how we called `plt.plot` in the first example and `ax.plot` in the second.\n",
    "\n",
    "The difference is that `plt.plot` operates on the currently active axes, while `ax.plot` explicitely states which axes we are opertaing on. While the `plt.plot` is much shorter, calling the axes instance explicitely is cleaner, and becomes important when we will start to work with several axes.\n"
   ]
  },
  {
   "cell_type": "markdown",
   "metadata": {},
   "source": [
    "### Note\n",
    "\n",
    "Using `plt.subplots()` with no arguments is equal to `plt.subplots(1, 1)`. Actually, we can also use this function to create a figure with more than one axes/ subplot.\n",
    "\n",
    "    f, axes = plt.subplots(nrows, ncols)\n",
    "    \n",
    "### Exercise\n",
    " * create a figure with two subplots"
   ]
  },
  {
   "cell_type": "code",
   "execution_count": null,
   "metadata": {},
   "outputs": [],
   "source": [
    "# code here\n"
   ]
  },
  {
   "cell_type": "markdown",
   "metadata": {},
   "source": [
    "### Solution"
   ]
  },
  {
   "cell_type": "code",
   "execution_count": null,
   "metadata": {
    "hide_input": true
   },
   "outputs": [],
   "source": [
    "f, axes = plt.subplots(1, 2)"
   ]
  },
  {
   "cell_type": "markdown",
   "metadata": {},
   "source": [
    "More on that in [Exercise 1.4](ex1_4_subplots.ipynb).\n",
    "\n",
    "## More than one line\n",
    "\n",
    "To add a second line, we can just repeat the `ax.plot` command."
   ]
  },
  {
   "cell_type": "code",
   "execution_count": null,
   "metadata": {},
   "outputs": [],
   "source": [
    "f, ax = plt.subplots()\n",
    "\n",
    "ax.plot(x, np.sin(x))\n",
    "ax.plot(x, np.cos(x))"
   ]
  },
  {
   "cell_type": "markdown",
   "metadata": {},
   "source": [
    "### Colors and line styles\n",
    "\n",
    "To change the color of the line we can add the color keyword.\n",
    "    \n",
    "    ax.plot(x, y, color=color)\n",
    "    \n",
    "There are several ways to tell pyplot what color you want to use:\n",
    " * Abbreviations, such as 'b', 'r', 'k', etc.\n",
    " * HTML/CSS colornames such as \"burlywood\" and \"chartreuse\", see the [full list](https://www.w3schools.com/colors/colors_names.asp)\n",
    " * rgb(a) values, such as (1, 0, 0) for red, or (1, 0, 0, 0.5) for a transparent red.\n",
    " * HTML/CSS hex string, such as `'#0000FF'` for blue.\n",
    " * A grey level: `'1.0'` is white, `'0.0'` is black. `'0.7'` a light shade of gray.\n",
    " \n",
    "*Note*: sometimes you need an element to have no color. For example for the edgecolor of a patch. You specify that with `color='none'`. (Why does matplotlib use the string `'none'` and not the python `None` keyword? Because in matplolib `None` stands for the default, thus specifiying `color=None` uses the default color.)\n",
    " "
   ]
  },
  {
   "cell_type": "code",
   "execution_count": 6,
   "metadata": {},
   "outputs": [
    {
     "data": {
      "image/png": "[encoded data removed]",
      "text/plain": [
       "<Figure size 432x288 with 1 Axes>"
      ]
     },
     "metadata": {},
     "output_type": "display_data"
    }
   ],
   "source": [
    "f, ax = plt.subplots()\n",
    "\n",
    "ax.plot(x, y + 0, color='green')            # specify color by name\n",
    "ax.plot(x, y + 1, color='b')                # color code (rgbcmyk)\n",
    "ax.plot(x, y + 2, color='0.75')             # Greyscale between 0 and 1\n",
    "ax.plot(x, y + 3, color='#1c9099')          # Hex code (RRGGBB from 00 to FF)\n",
    "ax.plot(x, y + 4, color=(1.0,0.2,0.3))      # RGB tuple, values 0 to 1\n",
    "ax.plot(x, y + 5, color=(1.0,0.2,0.3, 0.5)) # RGB tuple including alpha channel (transparency)\n",
    "ax.plot(x, y + 6, color='chartreuse');      # all HTML color names supported\n",
    "\n",
    "ax.plot(x, y + 7, color='none');            # 'none' stands for no color"
   ]
  },
  {
   "cell_type": "markdown",
   "metadata": {},
   "source": [
    "Note how the last line that was plotted is not visible.\n",
    "\n",
    "### Exercise\n",
    "\n",
    " * Observations are often shown in black - color all the lines in black."
   ]
  },
  {
   "cell_type": "code",
   "execution_count": 9,
   "metadata": {},
   "outputs": [
    {
     "data": {
      "text/plain": [
       "[<matplotlib.lines.Line2D at 0x7f058133eb38>]"
      ]
     },
     "execution_count": 9,
     "metadata": {},
     "output_type": "execute_result"
    },
    {
     "data": {
      "image/png": "[encoded data removed]",
      "text/plain": [
       "<Figure size 432x288 with 1 Axes>"
      ]
     },
     "metadata": {},
     "output_type": "display_data"
    }
   ],
   "source": [
    "f, ax = plt.subplots()\n",
    "\n",
    "ax.plot(year, co2 + 0, color='green')            # specify color by name\n",
    "ax.plot(year, co2 + 2, color='b')                # color code (rgbcmyk)\n",
    "ax.plot(year, co2 + 4, color='0.75')             # Greyscale between 0 and 1\n",
    "ax.plot(year, co2 + 6, color='#1c9099')          # Hex code (RRGGBB from 00 to FF)\n",
    "ax.plot(year, co2 + 8, color=(1.0, 0.2, 0.3))    # RGB tuple, values 0 to 1"
   ]
  },
  {
   "cell_type": "markdown",
   "metadata": {},
   "source": [
    "### Solution"
   ]
  },
  {
   "cell_type": "code",
   "execution_count": null,
   "metadata": {
    "hide_input": true
   },
   "outputs": [],
   "source": [
    "f, ax = plt.subplots()\n",
    "\n",
    "ax.plot(year, co2 + 0, color='black')       # specify color by name\n",
    "ax.plot(year, co2 + 2, color='k')           # color code (rgbcmyk)\n",
    "ax.plot(year, co2 + 4, color='0')           # Greyscale between 0 and 1\n",
    "ax.plot(year, co2 + 6, color='#000000')     # Hex code (RRGGBB from 00 to FF)\n",
    "ax.plot(year, co2 + 8, color=(0, 0, 0))     # RGB tuple, values 0 to 1"
   ]
  },
  {
   "cell_type": "markdown",
   "metadata": {},
   "source": [
    "## Linestyle\n",
    "\n",
    "The linestyle can be changed via the `linestyle` keyword argument. Alternatively you can use the abbreviation `ls`."
   ]
  },
  {
   "cell_type": "code",
   "execution_count": 10,
   "metadata": {},
   "outputs": [
    {
     "data": {
      "text/plain": [
       "[<matplotlib.lines.Line2D at 0x7f05812b0160>]"
      ]
     },
     "execution_count": 10,
     "metadata": {},
     "output_type": "execute_result"
    },
    {
     "data": {
      "image/png": "[encoded data removed]",
      "text/plain": [
       "<Figure size 432x288 with 1 Axes>"
      ]
     },
     "metadata": {},
     "output_type": "display_data"
    }
   ],
   "source": [
    "f, ax = plt.subplots()\n",
    "\n",
    "ax.plot(x, x + 0, linestyle='solid')\n",
    "ax.plot(x, x + 1, linestyle='dotted')\n",
    "# using ls also works\n",
    "ax.plot(x, x + 2, ls='dashdot')\n",
    "\n",
    "\n",
    "ax.plot(x, x + 5, linestyle='-') # solid\n",
    "ax.plot(x, x + 6, linestyle=':') # dotted\n",
    "# using ls also works\n",
    "ax.plot(x, x + 7, ls='-.') # dashdot"
   ]
  },
  {
   "cell_type": "markdown",
   "metadata": {},
   "source": [
    "## Legends\n",
    "\n",
    "The command to add a legend to an axes, is called `ax.legend`. There are several ways to add legend entries, the one I prefer is using the `label` keyword in the plot function."
   ]
  },
  {
   "cell_type": "code",
   "execution_count": null,
   "metadata": {},
   "outputs": [],
   "source": [
    "f, ax = plt.subplots()\n",
    "\n",
    "ax.plot(x, np.sin(x), label='sin(x)')\n",
    "ax.plot(x, np.cos(x), label='cos(x)')\n",
    "\n",
    "# no label keyword -> no legend entry\n",
    "ax.plot(x, x / 10)\n",
    "\n",
    "ax.set_ylim(-1.1, 1.1)\n",
    "\n",
    "ax.legend()"
   ]
  },
  {
   "cell_type": "markdown",
   "metadata": {},
   "source": [
    "### Exercise\n",
    "\n",
    "* change the linestyle\n",
    "* add a legend entry and a legend to the plot"
   ]
  },
  {
   "cell_type": "code",
   "execution_count": 11,
   "metadata": {},
   "outputs": [
    {
     "data": {
      "text/plain": [
       "[<matplotlib.lines.Line2D at 0x7f0581257898>]"
      ]
     },
     "execution_count": 11,
     "metadata": {},
     "output_type": "execute_result"
    },
    {
     "data": {
      "image/png": "[encoded data removed]",
      "text/plain": [
       "<Figure size 432x288 with 1 Axes>"
      ]
     },
     "metadata": {},
     "output_type": "display_data"
    }
   ],
   "source": [
    "f, ax = plt.subplots(1, 1)\n",
    "\n",
    "ax.plot(year, co2, color='0.1')\n",
    "\n",
    "# add legend\n"
   ]
  },
  {
   "cell_type": "markdown",
   "metadata": {},
   "source": [
    "### Solution "
   ]
  },
  {
   "cell_type": "code",
   "execution_count": null,
   "metadata": {
    "hide_input": true
   },
   "outputs": [],
   "source": [
    "f, ax = plt.subplots(1, 1)\n",
    "\n",
    "ax.plot(year, co2, color='0.1', label='CO2', ls='--')\n",
    "\n",
    "# add legend\n",
    "ax.legend()"
   ]
  },
  {
   "cell_type": "markdown",
   "metadata": {},
   "source": [
    "### Labels & title\n",
    "\n",
    "x- and y-lables can be added easily:"
   ]
  },
  {
   "cell_type": "code",
   "execution_count": null,
   "metadata": {},
   "outputs": [],
   "source": [
    "f, ax = plt.subplots()\n",
    "\n",
    "ax.plot(x, np.sin(x))\n",
    "\n",
    "ax.set_xlabel('xlabel')\n",
    "ax.set_ylabel('ylabel')\n",
    "\n",
    "ax.set_title('Title', fontsize=15);"
   ]
  },
  {
   "cell_type": "markdown",
   "metadata": {},
   "source": [
    "### Exercise\n",
    "\n",
    " * Add `'time'` and `'CO2 [ppm]'` as labels\n",
    " * add `'Annual Mauna Loa atmospheric CO2'` as title\n",
    " * change the fontsize of the title to 16"
   ]
  },
  {
   "cell_type": "code",
   "execution_count": 12,
   "metadata": {},
   "outputs": [
    {
     "data": {
      "text/plain": [
       "[<matplotlib.lines.Line2D at 0x7f0581257390>]"
      ]
     },
     "execution_count": 12,
     "metadata": {},
     "output_type": "execute_result"
    },
    {
     "data": {
      "image/png": "[encoded data removed]",
      "text/plain": [
       "<Figure size 432x288 with 1 Axes>"
      ]
     },
     "metadata": {},
     "output_type": "display_data"
    }
   ],
   "source": [
    "f, ax = plt.subplots(1, 1)\n",
    "\n",
    "ax.plot(year, co2, color='0.1')\n",
    "\n",
    "# add labels\n",
    "\n"
   ]
  },
  {
   "cell_type": "markdown",
   "metadata": {},
   "source": [
    "### Solution"
   ]
  },
  {
   "cell_type": "code",
   "execution_count": null,
   "metadata": {
    "hide_input": true
   },
   "outputs": [],
   "source": [
    "f, ax = plt.subplots(1, 1)\n",
    "\n",
    "ax.plot(year, co2, color='0.1')\n",
    "\n",
    "# add labels\n",
    "ax.set_xlabel('time')\n",
    "ax.set_ylabel('CO2 [ppm]')\n",
    "ax.set_title('Annual Mauna Loa atmospheric CO2', fontsize=16)"
   ]
  },
  {
   "cell_type": "markdown",
   "metadata": {},
   "source": [
    "### LaTeX rendering\n",
    "\n",
    "pyplot allows to use latex directives to format the text labels nicely."
   ]
  },
  {
   "cell_type": "code",
   "execution_count": 13,
   "metadata": {},
   "outputs": [
    {
     "data": {
      "image/png": "[encoded data removed]",
      "text/plain": [
       "<Figure size 432x288 with 1 Axes>"
      ]
     },
     "metadata": {},
     "output_type": "display_data"
    }
   ],
   "source": [
    "f, ax = plt.subplots()\n",
    "\n",
    "ax.plot(x, np.cos(x))\n",
    "\n",
    "ax.set_ylabel(r'$\\frac{\\mathrm{d} \\, \\sin(x)}{\\mathrm{d} x}$', fontsize=16);\n",
    "\n",
    "ax.set_xlabel('radian ($^\\circ$)', fontsize=12);"
   ]
  },
  {
   "cell_type": "markdown",
   "metadata": {},
   "source": [
    "### Exercise\n",
    "\n",
    " * turn CO2 into CO$_2$"
   ]
  },
  {
   "cell_type": "code",
   "execution_count": 14,
   "metadata": {},
   "outputs": [
    {
     "data": {
      "text/plain": [
       "Text(0.5,1,'Annual Mauna Loa atmospheric CO2')"
      ]
     },
     "execution_count": 14,
     "metadata": {},
     "output_type": "execute_result"
    },
    {
     "data": {
      "image/png": "[encoded data removed]",
      "text/plain": [
       "<Figure size 432x288 with 1 Axes>"
      ]
     },
     "metadata": {},
     "output_type": "display_data"
    }
   ],
   "source": [
    "# code here\n",
    "\n",
    "f, ax = plt.subplots(1, 1)\n",
    "\n",
    "ax.plot(year, co2, color='0.1')\n",
    "\n",
    "# add labels\n",
    "ax.set_xlabel('time')\n",
    "ax.set_ylabel('CO2 [ppm]')\n",
    "ax.set_title('Annual Mauna Loa atmospheric CO2', fontsize=16)"
   ]
  },
  {
   "cell_type": "markdown",
   "metadata": {},
   "source": [
    "### Solution"
   ]
  },
  {
   "cell_type": "code",
   "execution_count": null,
   "metadata": {
    "hide_input": true
   },
   "outputs": [],
   "source": [
    "f, ax = plt.subplots(1, 1)\n",
    "\n",
    "ax.plot(year, co2, color='0.1')\n",
    "\n",
    "# add labels\n",
    "\n",
    "ax.set_xlabel('time')\n",
    "ax.set_ylabel('CO$_2$ [ppm]')\n",
    "ax.set_title('Annual Mauna Loa atmospheric CO$_2$', fontsize=16)"
   ]
  },
  {
   "cell_type": "markdown",
   "metadata": {},
   "source": [
    "### Axes limits\n",
    "\n",
    "The limits of the axes can be set with `ax.set_xlim` and `ax.set_ylim`."
   ]
  },
  {
   "cell_type": "code",
   "execution_count": null,
   "metadata": {},
   "outputs": [],
   "source": [
    "f, ax = plt.subplots()\n",
    "\n",
    "ax.plot(x, np.sin(x))\n",
    "\n",
    "ax.set_xlim(2, 6)"
   ]
  },
  {
   "cell_type": "markdown",
   "metadata": {},
   "source": [
    "If you only one of the limits, the other is choosen automatically:"
   ]
  },
  {
   "cell_type": "code",
   "execution_count": null,
   "metadata": {},
   "outputs": [],
   "source": [
    "f, ax = plt.subplots()\n",
    "\n",
    "ax.plot(x, np.sin(x))\n",
    "\n",
    "ax.set_xlim(2, None)"
   ]
  },
  {
   "cell_type": "markdown",
   "metadata": {},
   "source": [
    "If you choose the minimum value larger than the maximum value, your axis is inverted:"
   ]
  },
  {
   "cell_type": "code",
   "execution_count": 15,
   "metadata": {
    "scrolled": true
   },
   "outputs": [
    {
     "data": {
      "text/plain": [
       "(1, -1)"
      ]
     },
     "execution_count": 15,
     "metadata": {},
     "output_type": "execute_result"
    },
    {
     "data": {
      "image/png": "[encoded data removed]",
      "text/plain": [
       "<Figure size 432x288 with 1 Axes>"
      ]
     },
     "metadata": {},
     "output_type": "display_data"
    }
   ],
   "source": [
    "f, ax = plt.subplots()\n",
    "\n",
    "ax.plot(x, np.sin(x))\n",
    "\n",
    "ax.set_ylim(1, -1)"
   ]
  },
  {
   "cell_type": "markdown",
   "metadata": {},
   "source": [
    "### Exercise\n",
    "\n",
    " * Restrict the range of the x and y axis"
   ]
  },
  {
   "cell_type": "code",
   "execution_count": null,
   "metadata": {},
   "outputs": [],
   "source": [
    "f, ax = plt.subplots(1, 1)\n",
    "\n",
    "ax.plot(year, co2, color='0.1')\n",
    "\n",
    "# add labels\n",
    "\n",
    "ax.set_xlabel('time')\n",
    "ax.set_ylabel('CO$_2$ [ppm]')\n",
    "ax.set_title('Annual Mauna Loa atmospheric CO$_2$', fontsize=16)\n",
    "\n",
    "# set axis limits\n"
   ]
  },
  {
   "cell_type": "markdown",
   "metadata": {},
   "source": [
    "### Solution"
   ]
  },
  {
   "cell_type": "code",
   "execution_count": null,
   "metadata": {
    "hide_input": true
   },
   "outputs": [],
   "source": [
    "f, ax = plt.subplots(1, 1)\n",
    "\n",
    "ax.plot(year, co2, color='0.1')\n",
    "\n",
    "# add labels\n",
    "\n",
    "ax.set_xlabel('time')\n",
    "ax.set_ylabel('CO$_2$ [ppm]')\n",
    "ax.set_title('Annual Mauna Loa atmospheric CO$_2$', fontsize=16)\n",
    "\n",
    "# set axis limits\n",
    "ax.set_xlim(1980, 2000)\n",
    "ax.set_ylim(330, None)\n"
   ]
  },
  {
   "cell_type": "markdown",
   "metadata": {},
   "source": [
    "### Ticks and tickmarks\n",
    "\n",
    "The position and formatting of the ticks is done automatically. If you are not happy with the automatic tickmarks, you can set them manually. You set the location of the ticks of the x-axis with `set_xticks` and the text of the tickmarks with `set_xticklabels`. And the same applies for the y-axis.\n",
    "\n",
    "Set ticks at 0, 3.14, 6.28, and 9.42"
   ]
  },
  {
   "cell_type": "code",
   "execution_count": null,
   "metadata": {},
   "outputs": [],
   "source": [
    "f, ax = plt.subplots()\n",
    "\n",
    "ax.plot(x, np.sin(x))\n",
    "\n",
    "# create a vector [0, pi, 2 pi, 3 pi]\n",
    "xticks = np.arange(0, 10, np.pi)\n",
    "\n",
    "ax.set_xticks(xticks);"
   ]
  },
  {
   "cell_type": "markdown",
   "metadata": {},
   "source": [
    "Set the tick labels to 0, $\\pi$, 2 $\\pi$, and 3 $\\pi$"
   ]
  },
  {
   "cell_type": "code",
   "execution_count": null,
   "metadata": {},
   "outputs": [],
   "source": [
    "xticks = np.arange(0, 10, np.pi)\n",
    "\n",
    "# create latex-formatted tick lables\n",
    "xticklabels = ['$0$', '$\\pi$', '$2 \\pi$', '$3 \\pi$']\n",
    "\n",
    "f, ax = plt.subplots()\n",
    "\n",
    "ax.plot(x, np.cos(x))\n",
    "\n",
    "ax.set_xticks(xticks);\n",
    "ax.set_xticklabels(xticklabels);\n",
    "\n",
    "\n"
   ]
  },
  {
   "cell_type": "markdown",
   "metadata": {},
   "source": [
    "### Exercise\n",
    "\n",
    " * only display every a tick every 20th year\n",
    " * set the yticks to 320, 340, and 360\n",
    " * add units to the ytick labels (ppm)"
   ]
  },
  {
   "cell_type": "code",
   "execution_count": null,
   "metadata": {},
   "outputs": [],
   "source": [
    "f, ax = plt.subplots(1, 1)\n",
    "\n",
    "ax.plot(year, co2, color='0.1')\n",
    "\n",
    "# add labels\n",
    "ax.set_xlabel('time')\n",
    "ax.set_ylabel('CO$_2$ [ppm]')\n",
    "ax.set_title('Annual Mauna Loa atmospheric CO$_2$', fontsize=16)\n",
    "\n",
    "# change ticks\n"
   ]
  },
  {
   "cell_type": "markdown",
   "metadata": {},
   "source": [
    "### Solution"
   ]
  },
  {
   "cell_type": "code",
   "execution_count": null,
   "metadata": {
    "hide_input": true
   },
   "outputs": [],
   "source": [
    "f, ax = plt.subplots(1, 1)\n",
    "\n",
    "ax.plot(year, co2, color='0.1')\n",
    "\n",
    "# add labels\n",
    "ax.set_xlabel('time')\n",
    "ax.set_ylabel('CO$_2$')\n",
    "ax.set_title('Annual Mauna Loa atmospheric CO$_2$', fontsize=16)\n",
    "\n",
    "# change ticks\n",
    "ax.set_xticks(np.arange(1960, 2020, 20))\n",
    "\n",
    "ax.set_yticks((320, 340, 360))\n",
    "ax.set_yticklabels(['320 ppm', '340 ppm', '360 ppm']);"
   ]
  },
  {
   "cell_type": "markdown",
   "metadata": {},
   "source": [
    "## Hiding ticks or ticklabels\n",
    "\n",
    "You can hide ticks or ticklabels by passing an empty list."
   ]
  },
  {
   "cell_type": "code",
   "execution_count": null,
   "metadata": {},
   "outputs": [],
   "source": [
    "xticks = np.arange(0, 10, np.pi)\n",
    "\n",
    "f, ax = plt.subplots()\n",
    "\n",
    "ax.plot(x, np.cos(x))\n",
    "\n",
    "# no ticks and no labels for the x axis\n",
    "ax.set_xticks([])\n",
    "\n",
    "# the ticks remain\n",
    "ax.set_yticklabels([])\n"
   ]
  },
  {
   "cell_type": "markdown",
   "metadata": {},
   "source": [
    "## Tick formatters and locators\n",
    "\n",
    "If I am unhappy with the automatic ticks I usually, set them by hand. However, there is a whole machinery around to customize the automatic placement and formatting - see [Customizing Ticks in the Python Data Science Handbook](https://jakevdp.github.io/PythonDataScienceHandbook/04.10-customizing-ticks.html)"
   ]
  },
  {
   "cell_type": "markdown",
   "metadata": {},
   "source": [
    "## plt methods vs. ax methods vs.. ax.set\n",
    "\n",
    "As briefly mentioned it is possible to call allmost all methods as a `plt` function or as a `ax` function (e.g. `plt.plot`, `ax.plot`), also with `legend`. If you use `plt` the command is executed for the currently active axes, which is often the last axes you created (as in matlab). I prefer to use the `ax` method as you explicitly state which axes you are modifying.\n",
    "\n",
    "Some of the methods, have a different name if you want to use them with `plt`:\n",
    "\n",
    " * `ax.set_xlim` -> `plt.xlim`\n",
    " * `ax.set_title` -> `plt.title`\n",
    " * `ax.set_xlabel` -> `plt.xlabel`\n",
    " \n",
    "Finally you can also use `ax.set(...)` to modify your axes.\n",
    "\n"
   ]
  },
  {
   "cell_type": "code",
   "execution_count": null,
   "metadata": {},
   "outputs": [],
   "source": [
    "xticks = np.arange(0, 10, np.pi)\n",
    "xticklabels = ['$0$', '$\\pi$', '$2 \\pi$', '$3 \\pi$']\n",
    "\n",
    "f, ax = plt.subplots()\n",
    "\n",
    "ax.plot(x, np.sin(x))\n",
    "\n",
    "ax.set(xticks=xticks, xticklabels=xticklabels);"
   ]
  },
  {
   "cell_type": "markdown",
   "metadata": {},
   "source": [
    "While using `ax.set` is much more compact, the disadvantage is that you cannot change the properties, such `ax.set_title('title', fontsize=17)`."
   ]
  },
  {
   "cell_type": "markdown",
   "metadata": {},
   "source": [
    "## Final plot"
   ]
  },
  {
   "cell_type": "code",
   "execution_count": 16,
   "metadata": {},
   "outputs": [
    {
     "data": {
      "image/png": "[encoded data removed]",
      "text/plain": [
       "<Figure size 432x288 with 1 Axes>"
      ]
     },
     "metadata": {},
     "output_type": "display_data"
    }
   ],
   "source": [
    "f, ax = plt.subplots(1, 1)\n",
    "\n",
    "ax.plot(year, co2, color='0.1')\n",
    "\n",
    "ax.set_xlim(1960, None)\n",
    "\n",
    "ax.set_xlabel('year')\n",
    "ax.set_ylabel('CO$_2$, [ppm]')\n",
    "\n",
    "ax.set_title('Annual Mauna Loa atmospheric CO$_2$');"
   ]
  },
  {
   "cell_type": "code",
   "execution_count": null,
   "metadata": {},
   "outputs": [],
   "source": []
  }
 ],
 "metadata": {
  "hide_input": false,
  "kernelspec": {
   "display_name": "Python 3",
   "language": "python",
   "name": "python3"
  },
  "language_info": {
   "codemirror_mode": {
    "name": "ipython",
    "version": 3
   },
   "file_extension": ".py",
   "mimetype": "text/x-python",
   "name": "python",
   "nbconvert_exporter": "python",
   "pygments_lexer": "ipython3",
   "version": "3.6.5"
  }
 },
 "nbformat": 4,
 "nbformat_minor": 2
}
