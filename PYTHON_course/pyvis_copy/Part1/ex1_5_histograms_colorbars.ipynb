{
 "cells": [
  {
   "cell_type": "markdown",
   "metadata": {},
   "source": [
    "# Exercise 1.5 - Histograms and Colorbars\n",
    "prepared by M.Hauser\n",
    "\n",
    "In this exercise we will look at how to create histograms and get to know a bit more about colorbars."
   ]
  },
  {
   "cell_type": "code",
   "execution_count": null,
   "metadata": {},
   "outputs": [],
   "source": [
    "import matplotlib.pyplot as plt\n",
    "import numpy as np\n",
    "\n",
    "import xarray as xr\n",
    "\n",
    "%matplotlib inline"
   ]
  },
  {
   "cell_type": "markdown",
   "metadata": {},
   "source": [
    "## Create/ load data\n",
    "\n",
    "#### artificial data\n",
    "\n",
    "First, we create some artificial multivariate normal data."
   ]
  },
  {
   "cell_type": "code",
   "execution_count": null,
   "metadata": {},
   "outputs": [],
   "source": [
    "mean = [0, 0]\n",
    "cov = [[1, 1], [1, 2]]\n",
    "X0, Y0 = np.random.multivariate_normal(mean, cov, 10000).T\n",
    "\n",
    "cov = [[1, 0], [0, 1]]  # diagonal covariance\n",
    "X1, Y1 = np.random.multivariate_normal(mean, cov, 10000).T"
   ]
  },
  {
   "cell_type": "markdown",
   "metadata": {},
   "source": [
    "#### Swiss Station Data\n",
    "\n",
    "We use Station Data for Switzerland - the time series of temperature & precipitation.\n",
    "\n",
    "The data is avaliable from [MeteoSwiss](http://www.meteoswiss.admin.ch/home/climate/past/homogenous-monthly-data.html).\n",
    "\n",
    "The data has already been [retrieved and postprocessed](../data/prepare_data_MCH.ipynb)."
   ]
  },
  {
   "cell_type": "code",
   "execution_count": null,
   "metadata": {},
   "outputs": [],
   "source": [
    "def load_mch(station, annual=True):\n",
    "    fN = '../data/MCH_HOM_{}.nc'.format(station)\n",
    "    return xr.open_dataset(fN)\n",
    "    \n",
    "BAS = load_mch('BAS')\n",
    "DAV = load_mch('DAV')\n",
    "SAE = load_mch('SAE')\n",
    "GSB = load_mch('GSB')"
   ]
  },
  {
   "cell_type": "markdown",
   "metadata": {},
   "source": [
    "## Histogram\n",
    "\n",
    "It's quite easy to create a histogram:"
   ]
  },
  {
   "cell_type": "code",
   "execution_count": null,
   "metadata": {},
   "outputs": [],
   "source": [
    "plt.hist(X0);"
   ]
  },
  {
   "cell_type": "markdown",
   "metadata": {},
   "source": [
    "`hist` takes many parameters:"
   ]
  },
  {
   "cell_type": "code",
   "execution_count": null,
   "metadata": {},
   "outputs": [],
   "source": [
    "plt.hist(Y0,\n",
    "         bins=30,               # number of bins\n",
    "         density=True,          # percentage instead of count\n",
    "         histtype='stepfilled', # don't apply the edgecolor to the individual bars\n",
    "         facecolor='indianred',\n",
    "         edgecolor='0.1');"
   ]
  },
  {
   "cell_type": "markdown",
   "metadata": {},
   "source": [
    "### Exercise\n",
    "\n",
    " * Plot the distribution of precipitation in Basel."
   ]
  },
  {
   "cell_type": "code",
   "execution_count": null,
   "metadata": {},
   "outputs": [],
   "source": [
    "# plot here\n",
    "x = BAS.Precipitation\n"
   ]
  },
  {
   "cell_type": "markdown",
   "metadata": {},
   "source": [
    "### Solution"
   ]
  },
  {
   "cell_type": "code",
   "execution_count": null,
   "metadata": {
    "hide_input": true
   },
   "outputs": [],
   "source": [
    "x = BAS.Precipitation\n",
    "plt.hist(x, bins=20);"
   ]
  },
  {
   "cell_type": "markdown",
   "metadata": {},
   "source": [
    "### Exercise\n",
    "\n",
    " * Plot the distribution of temperature in Basel and Davos in the same axes.\n",
    " * Use the `alpha` keyword to make them semi-transparent."
   ]
  },
  {
   "cell_type": "code",
   "execution_count": null,
   "metadata": {},
   "outputs": [],
   "source": [
    "# code here\n",
    "f, ax = plt.subplots()\n"
   ]
  },
  {
   "cell_type": "markdown",
   "metadata": {},
   "source": [
    "### Solution"
   ]
  },
  {
   "cell_type": "code",
   "execution_count": null,
   "metadata": {
    "hide_input": true
   },
   "outputs": [],
   "source": [
    "# code here\n",
    "f, ax = plt.subplots()\n",
    "\n",
    "ax.hist(BAS.Temperature, bins=20, alpha=0.5)\n",
    "ax.hist(DAV.Temperature, bins=20, alpha=0.5);"
   ]
  },
  {
   "cell_type": "markdown",
   "metadata": {},
   "source": [
    "## 2D histograms and hexbin\n",
    "\n",
    "We can also do 2D histograms with `hist2d` and hexagonal binning plots with `hexbin` by passing x and y."
   ]
  },
  {
   "cell_type": "code",
   "execution_count": null,
   "metadata": {},
   "outputs": [],
   "source": [
    "f, axes = plt.subplots(1, 2)\n",
    "f.set_size_inches(20 / 2.54, 10 / 2.54)\n",
    "\n",
    "ax = axes[0]\n",
    "ax.hist2d(X0, Y0, bins=25, cmap='Reds')\n",
    "\n",
    "ax = axes[1]\n",
    "ax.hexbin(X1, Y1, gridsize=20, cmap='Blues')"
   ]
  },
  {
   "cell_type": "markdown",
   "metadata": {},
   "source": [
    "### Exercise\n",
    "\n",
    "* use the data for Basel (`BAS`) and Col du Grand St-Bernard (`GSB`)\n",
    "\n",
    "* Is there a correlation between temperatures? \n",
    "  * Use hist2d to find out\n",
    "* Is there a correlation between precipitation? \n",
    "  * Use hexbin to find out   "
   ]
  },
  {
   "cell_type": "code",
   "execution_count": null,
   "metadata": {},
   "outputs": [],
   "source": [
    "f, axes = plt.subplots(1, 2)\n",
    "f.set_size_inches(20 / 2.54, 10 / 2.54)\n",
    "\n",
    "# ======\n",
    "x = GSB.Temperature\n",
    "y = BAS.Temperature\n",
    "\n",
    "ax = axes[0]\n",
    "\n",
    "\n",
    "# ======\n",
    "x = GSB.Precipitation.values\n",
    "y = BAS.Precipitation.values\n",
    "\n",
    "ax = axes[1]\n",
    "\n"
   ]
  },
  {
   "cell_type": "markdown",
   "metadata": {},
   "source": [
    "### Solution"
   ]
  },
  {
   "cell_type": "code",
   "execution_count": null,
   "metadata": {
    "hide_input": true
   },
   "outputs": [],
   "source": [
    "f, axes = plt.subplots(1, 2)\n",
    "f.set_size_inches(20 / 2.54, 10 / 2.54)\n",
    "\n",
    "# ======\n",
    "x = GSB.Temperature\n",
    "y = BAS.Temperature\n",
    "\n",
    "ax = axes[0]\n",
    "ax.hist2d(x, y, bins=25, cmap='Reds')\n",
    "\n",
    "# ======\n",
    "x = GSB.Precipitation.values\n",
    "y = BAS.Precipitation.values\n",
    "\n",
    "ax = axes[1]\n",
    "ax.hexbin(x, y, cmap='Blues', gridsize=20);"
   ]
  },
  {
   "cell_type": "markdown",
   "metadata": {},
   "source": [
    "### Solution if you get an error (else you can ignore this)\n",
    "\n",
    "Matplolib can only handle NaNs in hexbin since version 2.2. As precipitation at GSB contains NaNs, we may need to get rid of them."
   ]
  },
  {
   "cell_type": "code",
   "execution_count": null,
   "metadata": {},
   "outputs": [],
   "source": [
    "f, axes = plt.subplots(1, 2)\n",
    "f.set_size_inches(20 / 2.54, 10 / 2.54)\n",
    "\n",
    "# ======\n",
    "x = GSB.Temperature\n",
    "y = BAS.Temperature\n",
    "\n",
    "ax = axes[0]\n",
    "\n",
    "ax.hist2d(x, y, bins=25, cmap='Reds')\n",
    "\n",
    "# ======\n",
    "x = GSB.Precipitation.values\n",
    "y = BAS.Precipitation.values\n",
    "\n",
    "# find all values that are NaN\n",
    "sel = ~(np.isnan(x) | np.isnan(y))\n",
    "\n",
    "# drop them\n",
    "x = x[sel]\n",
    "y = y[sel]\n",
    "\n",
    "ax = axes[1]\n",
    "\n",
    "ax.hexbin(x, y, cmap='Blues', gridsize=20);"
   ]
  },
  {
   "cell_type": "markdown",
   "metadata": {},
   "source": [
    "While the plots look fine, we don't know how many elements there are in each bin - we need colorbars!\n",
    "\n",
    "\n",
    "## colorbars \n",
    "\n",
    "We got to know colorbars in exercise 1.3. They are created with `plt.colorbar(h)`\n",
    "\n",
    "A colorbar is an `axes` object with some special properties. Therefore they are a function of `plt` (or of `f`), but not of `ax`. They are vertical per default, but we can make them horizontal with the `orientation` keyword. Also adding a label is easy. It has a `set_label` function that adds a x- or y- label, depending on the orientation.\n",
    "\n",
    "We need to pass a `mappable` to the colorbar. A `mappable` is returned by almost all plotting function. I usually call them `h`."
   ]
  },
  {
   "cell_type": "code",
   "execution_count": null,
   "metadata": {},
   "outputs": [],
   "source": [
    "f, ax = plt.subplots(1, 1)\n",
    "\n",
    "h = ax.hexbin(X0, Y0, cmap='Blues', gridsize=20);\n",
    "\n",
    "cbar = f.colorbar(h)\n",
    "cbar.set_label('counts per bin')"
   ]
  },
  {
   "cell_type": "markdown",
   "metadata": {},
   "source": [
    "### Exercise\n",
    " * add a horizontal colorbar"
   ]
  },
  {
   "cell_type": "code",
   "execution_count": null,
   "metadata": {},
   "outputs": [],
   "source": [
    "f, ax = plt.subplots(1, 1)\n",
    "\n",
    "h = ax.hexbin(GSB.Temperature, BAS.Temperature, cmap='Reds', gridsize=20);\n",
    "\n",
    "# add colorbar\n"
   ]
  },
  {
   "cell_type": "markdown",
   "metadata": {},
   "source": [
    "### Solution"
   ]
  },
  {
   "cell_type": "code",
   "execution_count": null,
   "metadata": {
    "hide_input": true
   },
   "outputs": [],
   "source": [
    "f, ax = plt.subplots(1, 1)\n",
    "\n",
    "h = ax.hexbin(GSB.Temperature, BAS.Temperature, cmap='Reds', gridsize=20);\n",
    "\n",
    "# add colorbar\n",
    "\n",
    "cbar = f.colorbar(h, orientation='horizontal')\n",
    "cbar.set_label('counts per bin')"
   ]
  },
  {
   "cell_type": "markdown",
   "metadata": {},
   "source": [
    "## Specifying the axes the colorbar belongs to\n",
    "\n",
    "The `ax` keyword in `colorbar` determines which axes the colorbar belongs to. You can even pass a list of axes, to get a colorbar that spans multiple subfigures.\n",
    "\n",
    "> this shrinks the axes to make room for the colorbar."
   ]
  },
  {
   "cell_type": "code",
   "execution_count": null,
   "metadata": {},
   "outputs": [],
   "source": [
    "f, axes = plt.subplots(2, 2)\n",
    "axes = axes.flatten()\n",
    "f.subplots_adjust(wspace=0.4)\n",
    "\n",
    "ax = axes[0]\n",
    "h0 = ax.hexbin(X0, Y0, cmap='viridis', gridsize=20);\n",
    "\n",
    "ax = axes[1]\n",
    "h2 = ax.hexbin(X1, Y1, cmap='Reds', gridsize=20, vmax=250);\n",
    "\n",
    "ax = axes[2]\n",
    "h1 = ax.hexbin(X1, Y1, cmap='Blues', gridsize=20);\n",
    "\n",
    "ax = axes[3]\n",
    "h2 = ax.hexbin(X0, Y0, cmap='Reds', gridsize=20, vmax=250);\n",
    "\n",
    "\n",
    "# ======\n",
    "# single colorbars\n",
    "\n",
    "f.colorbar(h0, ax=axes[0])\n",
    "f.colorbar(h1, ax=axes[2])\n",
    "\n",
    "# ======\n",
    "# double colorbars\n",
    "\n",
    "cbar = f.colorbar(h2, ax=[axes[1], axes[3]])\n",
    "cbar.set_label('Double colorbar')\n",
    "\n"
   ]
  },
  {
   "cell_type": "markdown",
   "metadata": {},
   "source": [
    "> You have to make sure that all plots with the same colorbar also display the same data range! You do that by setting `vmin` and `vmax`."
   ]
  },
  {
   "cell_type": "markdown",
   "metadata": {},
   "source": [
    "### Exercise\n",
    "\n",
    "Let's go back to the figure comparing BAS and GSB.\n",
    "\n",
    " * add a colorbar spanning both axes\n",
    " * make sure both `hexbin`s show the same scale (30 is a good maximum value)"
   ]
  },
  {
   "cell_type": "code",
   "execution_count": null,
   "metadata": {},
   "outputs": [],
   "source": [
    "x0 = GSB.Temperature\n",
    "y0 = BAS.Temperature\n",
    "\n",
    "x1 = GSB.Precipitation\n",
    "y1 = BAS.Precipitation\n",
    "\n",
    "# ======\n",
    "\n",
    "f, axes = plt.subplots(1, 2)\n",
    "f.set_size_inches(20 / 2.54, 10 / 2.54)\n",
    "\n",
    "# ======\n",
    "\n",
    "ax = axes[0]\n",
    "h = ax.hexbin(x0, y0, cmap='Blues', gridsize=25, vmax=30);\n",
    "\n",
    "# ======\n",
    "\n",
    "ax = axes[1]\n",
    "h = ax.hexbin(x1, y1, cmap='Blues', gridsize=25, vmax=30);\n",
    "\n",
    "# ======\n",
    "# add colorbar\n",
    "\n"
   ]
  },
  {
   "cell_type": "markdown",
   "metadata": {},
   "source": [
    "### Solution"
   ]
  },
  {
   "cell_type": "code",
   "execution_count": null,
   "metadata": {
    "hide_input": true
   },
   "outputs": [],
   "source": [
    "x0 = GSB.Temperature\n",
    "y0 = BAS.Temperature\n",
    "\n",
    "x1 = GSB.Precipitation\n",
    "y1 = BAS.Precipitation\n",
    "\n",
    "# ======\n",
    "\n",
    "f, axes = plt.subplots(1, 2)\n",
    "f.set_size_inches(20 / 2.54, 10 / 2.54)\n",
    "\n",
    "# ======\n",
    "\n",
    "ax = axes[0]\n",
    "h = ax.hexbin(x0, y0, cmap='Blues', gridsize=25, vmax=30);\n",
    "\n",
    "# ======\n",
    "\n",
    "ax = axes[1]\n",
    "h = ax.hexbin(x1, y1, cmap='Blues', gridsize=25, vmax=30);\n",
    "\n",
    "# ======\n",
    "# add colorbar\n",
    "\n",
    "f.colorbar(h, ax=[axes[0], axes[1]], orientation='horizontal')"
   ]
  },
  {
   "cell_type": "markdown",
   "metadata": {},
   "source": [
    "Actually, that does not look great, using only one vertical colorbar is better - let's do that.\n",
    "\n",
    "### Bonus exercise\n",
    "\n",
    "* add only one vertical colorbar for the right axes\n",
    "  * remove the old colorbar\n",
    "  * add a label (`'counts per bin'`)\n",
    "* add x-and y-labels\n",
    "* add titles\n",
    "\n"
   ]
  },
  {
   "cell_type": "code",
   "execution_count": null,
   "metadata": {},
   "outputs": [],
   "source": [
    "x0 = GSB.Temperature\n",
    "y0 = BAS.Temperature\n",
    "\n",
    "x1 = GSB.Precipitation\n",
    "y1 = BAS.Precipitation\n",
    "\n",
    "# ======\n",
    "\n",
    "f, axes = plt.subplots(1, 2)\n",
    "f.set_size_inches(20 / 2.54, 10 / 2.54)\n",
    "\n",
    "# ======\n",
    "\n",
    "ax = axes[0]\n",
    "h = ax.hexbin(x0, y0, cmap='Blues', gridsize=25, vmax=30);\n",
    "\n",
    "# add labels and title\n",
    "\n",
    "# ======\n",
    "\n",
    "ax = axes[1]\n",
    "h = ax.hexbin(x1, y1, cmap='Blues', gridsize=25, vmax=30);\n",
    "\n",
    "# add labels and title\n",
    "\n",
    "\n",
    "# ======\n",
    "# add colorbar\n",
    "\n",
    "\n",
    "plt.tight_layout()"
   ]
  },
  {
   "cell_type": "markdown",
   "metadata": {},
   "source": [
    "### Solution"
   ]
  },
  {
   "cell_type": "code",
   "execution_count": null,
   "metadata": {
    "hide_input": true
   },
   "outputs": [],
   "source": [
    "x0 = GSB.Temperature\n",
    "y0 = BAS.Temperature\n",
    "\n",
    "x1 = GSB.Precipitation\n",
    "y1 = BAS.Precipitation\n",
    "\n",
    "# ======\n",
    "\n",
    "f, axes = plt.subplots(1, 2)\n",
    "f.set_size_inches(20 / 2.54, 10 / 2.54)\n",
    "\n",
    "# ======\n",
    "\n",
    "ax = axes[0]\n",
    "h = ax.hexbin(x0, y0, cmap='Blues', gridsize=25, vmax=30);\n",
    "\n",
    "# add labels and title\n",
    "ax.set_title('Temperature')\n",
    "ax.set_title('a', loc='left', weight='semibold')\n",
    "\n",
    "ax.set_xlabel('GSB [°C]')\n",
    "ax.set_ylabel('BAS [°C]')\n",
    "\n",
    "\n",
    "# ======\n",
    "\n",
    "ax = axes[1]\n",
    "h = ax.hexbin(x1, y1, cmap='Blues', gridsize=25, vmax=30);\n",
    "\n",
    "# add labels and title\n",
    "ax.set_title('Precipitation')\n",
    "ax.set_title('b', loc='left', weight='bold')\n",
    "\n",
    "ax.set_xlabel('GSB [mm / yr]')\n",
    "ax.set_ylabel('BAS [mm / yr]')\n",
    "\n",
    "# ======\n",
    "# add colorbar\n",
    "\n",
    "cbar = f.colorbar(h, ax=ax)\n",
    "cbar.set_label('counts per bin')\n",
    "\n",
    "plt.tight_layout()"
   ]
  },
  {
   "cell_type": "code",
   "execution_count": null,
   "metadata": {},
   "outputs": [],
   "source": []
  }
 ],
 "metadata": {
  "hide_input": false,
  "kernelspec": {
   "display_name": "Python 3",
   "language": "python",
   "name": "python3"
  },
  "language_info": {
   "codemirror_mode": {
    "name": "ipython",
    "version": 3
   },
   "file_extension": ".py",
   "mimetype": "text/x-python",
   "name": "python",
   "nbconvert_exporter": "python",
   "pygments_lexer": "ipython3",
   "version": "3.6.5"
  }
 },
 "nbformat": 4,
 "nbformat_minor": 2
}
