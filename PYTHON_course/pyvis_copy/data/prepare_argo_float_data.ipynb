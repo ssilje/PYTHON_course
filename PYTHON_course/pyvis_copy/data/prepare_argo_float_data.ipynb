{
 "cells": [
  {
   "cell_type": "markdown",
   "metadata": {},
   "source": [
    "# ARGO Date from 30.12.2017\n",
    "\n",
    "We use the position and temperature from the argo float array:\n",
    "\n",
    " * http://www.argo.ucsd.edu/\n",
    " * Argo (2000). Argo float data and metadata from Global Data Assembly Centre (Argo GDAC). SEANOE. http://doi.org/10.17882/42182\n",
    "  \n",
    "The data was obtained from\n",
    " * ftp://ftp.ifremer.fr/ifremer/argo/geo\n",
    "\n"
   ]
  },
  {
   "cell_type": "code",
   "execution_count": null,
   "metadata": {},
   "outputs": [],
   "source": [
    "import pandas as pd\n",
    "import xarray as xr\n",
    "import matplotlib.pyplot as plt\n",
    "\n",
    "%matplotlib inline"
   ]
  },
  {
   "cell_type": "code",
   "execution_count": null,
   "metadata": {},
   "outputs": [],
   "source": [
    "\n",
    "\n",
    "def process_argo_data(ocean, date):\n",
    "    \n",
    "    fN = '../../rawdata/{}_{}_prof.nc'.format(ocean, date)\n",
    "    \n",
    "    ds = xr.open_dataset(fN)\n",
    "    \n",
    "    # only select lon, lat, temp\n",
    "    ds = ds[['LONGITUDE', 'LATITUDE', 'TEMP']]\n",
    "    \n",
    "    # only the topmost layer\n",
    "    ds = ds.isel(N_LEVELS=0)\n",
    "    \n",
    "    ds = ds.rename(dict(LATITUDE='lat', LONGITUDE='lon'))\n",
    "\n",
    "    fN_out = 'ARGO_{}_{}.nc'.format(ocean, date)\n",
    "\n",
    "    ds.to_netcdf(fN_out, format='NETCDF4_CLASSIC')\n",
    "    \n",
    "    return ds\n",
    "\n",
    "\n",
    "ATL = process_argo_data('ATL', '20171230')\n",
    "IND = process_argo_data('IND', '20171230')\n",
    "PAC = process_argo_data('PAC', '20171230')\n"
   ]
  },
  {
   "cell_type": "code",
   "execution_count": null,
   "metadata": {},
   "outputs": [],
   "source": []
  },
  {
   "cell_type": "code",
   "execution_count": null,
   "metadata": {},
   "outputs": [],
   "source": []
  }
 ],
 "metadata": {
  "kernelspec": {
   "display_name": "Python 3",
   "language": "python",
   "name": "python3"
  },
  "language_info": {
   "codemirror_mode": {
    "name": "ipython",
    "version": 3
   },
   "file_extension": ".py",
   "mimetype": "text/x-python",
   "name": "python",
   "nbconvert_exporter": "python",
   "pygments_lexer": "ipython3",
   "version": "3.5.4"
  }
 },
 "nbformat": 4,
 "nbformat_minor": 2
}
